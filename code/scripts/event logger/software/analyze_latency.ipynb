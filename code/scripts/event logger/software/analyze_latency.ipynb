{
 "cells": [
  {
   "cell_type": "code",
   "execution_count": 71,
   "metadata": {},
   "outputs": [
    {
     "data": {
      "text/plain": [
       "'At 30 Hz, latency: 110 +- 22 ms'"
      ]
     },
     "metadata": {},
     "output_type": "display_data"
    },
    {
     "data": {
      "text/plain": [
       "'At 100 Hz, latency: 43 +- 4 ms'"
      ]
     },
     "metadata": {},
     "output_type": "display_data"
    },
    {
     "data": {
      "text/plain": [
       "'At 240 Hz, latency: 26 +- 2 ms'"
      ]
     },
     "metadata": {},
     "output_type": "display_data"
    },
    {
     "data": {
      "text/plain": [
       "'At 360 Hz, latency: 29 +- 6 ms'"
      ]
     },
     "metadata": {},
     "output_type": "display_data"
    },
    {
     "data": {
      "text/plain": [
       "'At 240r Hz, latency: 25 +- 1 ms'"
      ]
     },
     "metadata": {},
     "output_type": "display_data"
    },
    {
     "data": {
      "text/plain": [
       "'At 360r Hz, latency: 25 +- 2 ms'"
      ]
     },
     "metadata": {},
     "output_type": "display_data"
    }
   ],
   "source": [
    "import numpy as np\n",
    "import csv\n",
    "\n",
    "foldername = 'Logs'\n",
    "filenames = {\n",
    "    '30':'30_targeting.csv',\n",
    "    '100':'100_targeting.csv',\n",
    "    '240':'240_targeting.csv',\n",
    "    '360':'360_targeting.csv',\n",
    "    '240r':'240_reaction.csv',\n",
    "    '360r':'360_reaction.csv',\n",
    "}\n",
    "\n",
    "for fr,filename in filenames.items():\n",
    "    with open(foldername + '/' + filename) as csv_file:\n",
    "        csv_reader = csv.reader(csv_file, delimiter = ',')\n",
    "        line_count = 0\n",
    "        click_events = []\n",
    "        display_events = []\n",
    "        for row in csv_reader:\n",
    "            if line_count == 0:\n",
    "                line_count += 1\n",
    "            else:\n",
    "                if row[1] == 'M1':\n",
    "                    click_events.append(row[0])\n",
    "                elif row[1] == 'PD':\n",
    "                    display_events.append(row[0])\n",
    "        dt_array = np.flip(np.asarray(display_events).astype('float'))\n",
    "        ct_array = np.flip(np.asarray(click_events).astype('float'))\n",
    "        # exhaustive search\n",
    "        delays = []\n",
    "        for dt in dt_array:\n",
    "            for ct in ct_array:\n",
    "                if ((dt-ct) > 0) and ((dt-ct) < 0.4):\n",
    "                    delays.append(dt-ct)\n",
    "                    break\n",
    "        delays = np.asarray(delays).astype('float32')\n",
    "        display('At ' + str(fr) + ' Hz, latency: ' + str(np.round(1000 * np.mean(delays)).astype('int')) + ' +- ' + str(np.round(1000 * np.std(delays)).astype('int')) + ' ms')\n",
    "\n"
   ]
  },
  {
   "cell_type": "code",
   "execution_count": 57,
   "metadata": {},
   "outputs": [
    {
     "data": {
      "text/plain": [
       "3.0"
      ]
     },
     "execution_count": 57,
     "metadata": {},
     "output_type": "execute_result"
    }
   ],
   "source": [
    "np.round(100 * np.mean(delays))"
   ]
  },
  {
   "cell_type": "code",
   "execution_count": 55,
   "metadata": {
    "scrolled": true
   },
   "outputs": [
    {
     "name": "stdout",
     "output_type": "stream",
     "text": [
      "0.028705603\n"
     ]
    }
   ],
   "source": [
    "print(aa)"
   ]
  }
 ],
 "metadata": {
  "kernelspec": {
   "display_name": "Python 3",
   "language": "python",
   "name": "python3"
  },
  "language_info": {
   "codemirror_mode": {
    "name": "ipython",
    "version": 3
   },
   "file_extension": ".py",
   "mimetype": "text/x-python",
   "name": "python",
   "nbconvert_exporter": "python",
   "pygments_lexer": "ipython3",
   "version": "3.7.1"
  }
 },
 "nbformat": 4,
 "nbformat_minor": 2
}
