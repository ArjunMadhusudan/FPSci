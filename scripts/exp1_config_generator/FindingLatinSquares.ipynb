{
 "cells": [
  {
   "cell_type": "code",
   "execution_count": 96,
   "metadata": {
    "scrolled": true
   },
   "outputs": [
    {
     "name": "stdout",
     "output_type": "stream",
     "text": [
      "[[5 4 2 1 3]\n",
      " [3 5 4 2 1]\n",
      " [1 2 3 4 5]\n",
      " [2 3 1 5 4]\n",
      " [4 1 5 3 2]]\n",
      "[[3 4 2 5 1]\n",
      " [5 1 3 4 2]\n",
      " [2 3 5 1 4]\n",
      " [4 2 1 3 5]\n",
      " [1 5 4 2 3]]\n"
     ]
    }
   ],
   "source": [
    "import numpy as np\n",
    "import time\n",
    "\n",
    "def findLatin(size_mat, verbose = False):\n",
    "    t = time.time()\n",
    "    while(True):\n",
    "        condition_orderings = []\n",
    "        for _ in range(5):\n",
    "            condition_orderings.append(np.random.permutation(5))\n",
    "        condition_orderings = np.asarray(condition_orderings) + 1\n",
    "    #     print(condition_orderings)\n",
    "\n",
    "        # check if it is a Latin Square\n",
    "        isLatin = True\n",
    "        for ci in range(condition_orderings.shape[1]):\n",
    "            values, counts = np.unique(condition_orderings[:,ci], return_counts = True)\n",
    "    #         print(counts)\n",
    "    #         print(np.unique(counts))\n",
    "            if verbose:\n",
    "                if len(np.unique(counts)) == 1:\n",
    "                    print('hope!')\n",
    "                if len(np.unique(counts)) != 1:\n",
    "                    print('------------fail-----------' + str(ci))\n",
    "\n",
    "            if len(np.unique(counts)) != 1:\n",
    "                isLatin = False\n",
    "                break\n",
    "\n",
    "        if isLatin:\n",
    "            if verbose:\n",
    "                print('Took ' + str(time.time() - t) + ' sec to find a Latin square matrix.')\n",
    "            break\n",
    "    return condition_orderings\n",
    "\n",
    "c1 = findLatin(5)\n",
    "c2 = findLatin(5)\n",
    "\n",
    "print(c1)\n",
    "print(c2)"
   ]
  },
  {
   "cell_type": "code",
   "execution_count": 97,
   "metadata": {},
   "outputs": [
    {
     "data": {
      "text/plain": [
       "array([[5, 4, 2, 1, 3],\n",
       "       [3, 5, 4, 2, 1],\n",
       "       [1, 2, 3, 4, 5],\n",
       "       [2, 3, 1, 5, 4],\n",
       "       [4, 1, 5, 3, 2]])"
      ]
     },
     "execution_count": 97,
     "metadata": {},
     "output_type": "execute_result"
    }
   ],
   "source": [
    "c1"
   ]
  }
 ],
 "metadata": {
  "kernelspec": {
   "display_name": "Python 3",
   "language": "python",
   "name": "python3"
  },
  "language_info": {
   "codemirror_mode": {
    "name": "ipython",
    "version": 3
   },
   "file_extension": ".py",
   "mimetype": "text/x-python",
   "name": "python",
   "nbconvert_exporter": "python",
   "pygments_lexer": "ipython3",
   "version": "3.7.3"
  }
 },
 "nbformat": 4,
 "nbformat_minor": 2
}
